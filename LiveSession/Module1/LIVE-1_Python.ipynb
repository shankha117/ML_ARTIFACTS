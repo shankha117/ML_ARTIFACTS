{
 "cells": [
  {
   "cell_type": "markdown",
   "metadata": {
    "id": "Abw2sTED-IPQ"
   },
   "source": [
    "## Objective: Learning to solve basic Python problems\n",
    "\n",
    "Prerequisites: Module 1 listed @ https://www.appliedaicourse.com/course/11/Applied-Machine-learning-course - SQL\n",
    "\n",
    "Tackle few simple problems relvant to AI/ML\n",
    "    - Break a problem into smaller sub-problems.\n",
    "    - Connecting the dots from sub-problems to coding-concepts.\n",
    "    - Code-walkthrough + Putting it all together.\n",
    "    - More focus on common errors and mistakes + reading function reference + fixing bugs\n",
    "    - Exercise-problems for practice.\n",
    "    - Introduce new concepts as we need.\n",
    "    - Good programmers may not benifit much from this session.\n",
    "    "
   ]
  },
  {
   "cell_type": "markdown",
   "metadata": {
    "id": "gog-AMMg-IPZ"
   },
   "source": [
    "### Problem 1: Add two randomly generated NumPy matrices using loops \n",
    "    - Sub-problems\n",
    "    - Subproblems ---> coding concepts\n",
    "    - Code-walkthrough + Mistakes\n",
    "    - Exercise: Add two randomly generated NumPy 3D-matrices(tensor) using loops "
   ]
  },
  {
   "cell_type": "code",
   "execution_count": 1,
   "metadata": {
    "colab": {
     "base_uri": "https://localhost:8080/"
    },
    "executionInfo": {
     "elapsed": 2476,
     "status": "ok",
     "timestamp": 1621000980946,
     "user": {
      "displayName": "Applied AI Course",
      "photoUrl": "https://lh3.googleusercontent.com/a-/AOh14GjjpR94Niu_srJxsFT_3bp9vDfqrjd2Zx94jDQdMg=s64",
      "userId": "06629147635963609455"
     },
     "user_tz": -330
    },
    "id": "bO32klOm-IPa",
    "outputId": "8fa8640c-a29f-433f-ac3a-6ed5a5b967ed"
   },
   "outputs": [
    {
     "name": "stdout",
     "output_type": "stream",
     "text": [
      "[[0.53153167 0.56879692 0.66940215 0.37073188]\n",
      " [0.25408113 0.96033642 0.42437323 0.1675077 ]\n",
      " [0.20972829 0.36897545 0.0177418  0.93687854]\n",
      " [0.289791   0.47874732 0.89232503 0.78670909]\n",
      " [0.00982236 0.46644229 0.79164288 0.45801251]]\n",
      "(5, 4)\n"
     ]
    }
   ],
   "source": [
    "# create random matrix A1 of size 5X4.\n",
    "### Google \" numpy create random matrices \" & Read through the top 4-5 links\n",
    "### https://www.codespeedy.com/how-to-create-matrix-of-random-numbers-in-python-numpy/\n",
    "\n",
    "import numpy as np\n",
    "A1 = np.random.rand(5,4) # read documentation to understand the params. Google \"np.random.rand reference\" ---> https://docs.scipy.org/doc/numpy-1.15.1/reference/generated/numpy.random.rand.html\n",
    "\n",
    "##COMMON-ERROR: np.random.rand(4,5)\n",
    "##COMMON_ERROR: \n",
    "\n",
    "print(A1) # always print to ensure that everyhitng works fine.\n",
    "\n",
    "print(A1.shape)\n"
   ]
  },
  {
   "cell_type": "code",
   "execution_count": null,
   "metadata": {
    "colab": {
     "base_uri": "https://localhost:8080/",
     "height": 167
    },
    "executionInfo": {
     "elapsed": 3234,
     "status": "error",
     "timestamp": 1615377822405,
     "user": {
      "displayName": "Applied AI Course",
      "photoUrl": "https://lh3.googleusercontent.com/a-/AOh14GjjpR94Niu_srJxsFT_3bp9vDfqrjd2Zx94jDQdMg=s64",
      "userId": "06629147635963609455"
     },
     "user_tz": -330
    },
    "id": "8F2ZSjid-IPc",
    "outputId": "c6bc4ce0-3f50-455a-cf43-ec4eb27503d9"
   },
   "outputs": [
    {
     "ename": "TypeError",
     "evalue": "ignored",
     "output_type": "error",
     "traceback": [
      "\u001b[0;31m---------------------------------------------------------------------------\u001b[0m",
      "\u001b[0;31mTypeError\u001b[0m                                 Traceback (most recent call last)",
      "\u001b[0;32m<ipython-input-2-7ac64a307e9c>\u001b[0m in \u001b[0;36m<module>\u001b[0;34m()\u001b[0m\n\u001b[0;32m----> 1\u001b[0;31m \u001b[0mprint\u001b[0m\u001b[0;34m(\u001b[0m\u001b[0mA1\u001b[0m\u001b[0;34m.\u001b[0m\u001b[0mshape\u001b[0m\u001b[0;34m(\u001b[0m\u001b[0;34m)\u001b[0m\u001b[0;34m)\u001b[0m\u001b[0;34m;\u001b[0m \u001b[0;31m#COMMON-ERROR\u001b[0m\u001b[0;34m\u001b[0m\u001b[0;34m\u001b[0m\u001b[0m\n\u001b[0m",
      "\u001b[0;31mTypeError\u001b[0m: 'tuple' object is not callable"
     ]
    }
   ],
   "source": [
    "print(A1.shape()); #COMMON-ERROR"
   ]
  },
  {
   "cell_type": "code",
   "execution_count": 2,
   "metadata": {
    "colab": {
     "base_uri": "https://localhost:8080/",
     "height": 163
    },
    "executionInfo": {
     "elapsed": 1751,
     "status": "error",
     "timestamp": 1621001002171,
     "user": {
      "displayName": "Applied AI Course",
      "photoUrl": "https://lh3.googleusercontent.com/a-/AOh14GjjpR94Niu_srJxsFT_3bp9vDfqrjd2Zx94jDQdMg=s64",
      "userId": "06629147635963609455"
     },
     "user_tz": -330
    },
    "id": "52ppUyZB-IPc",
    "outputId": "d760c3c3-c487-423c-e614-8559e315b8a9"
   },
   "outputs": [
    {
     "ename": "AttributeError",
     "evalue": "ignored",
     "output_type": "error",
     "traceback": [
      "\u001b[0;31m---------------------------------------------------------------------------\u001b[0m",
      "\u001b[0;31mAttributeError\u001b[0m                            Traceback (most recent call last)",
      "\u001b[0;32m<ipython-input-2-8e864547c389>\u001b[0m in \u001b[0;36m<module>\u001b[0;34m()\u001b[0m\n\u001b[0;32m----> 1\u001b[0;31m \u001b[0mprint\u001b[0m\u001b[0;34m(\u001b[0m\u001b[0mA1\u001b[0m\u001b[0;34m.\u001b[0m\u001b[0mtype\u001b[0m\u001b[0;34m)\u001b[0m\u001b[0;34m;\u001b[0m \u001b[0;31m# COMMON-ERROR\u001b[0m\u001b[0;34m\u001b[0m\u001b[0;34m\u001b[0m\u001b[0m\n\u001b[0m",
      "\u001b[0;31mAttributeError\u001b[0m: 'numpy.ndarray' object has no attribute 'type'"
     ]
    }
   ],
   "source": [
    "print(A1.type); # COMMON-ERROR"
   ]
  },
  {
   "cell_type": "code",
   "execution_count": 3,
   "metadata": {
    "colab": {
     "base_uri": "https://localhost:8080/"
    },
    "executionInfo": {
     "elapsed": 916,
     "status": "ok",
     "timestamp": 1621001005584,
     "user": {
      "displayName": "Applied AI Course",
      "photoUrl": "https://lh3.googleusercontent.com/a-/AOh14GjjpR94Niu_srJxsFT_3bp9vDfqrjd2Zx94jDQdMg=s64",
      "userId": "06629147635963609455"
     },
     "user_tz": -330
    },
    "id": "W336cfcq-IPd",
    "outputId": "191ef50f-db4c-4502-834b-ab07d1a870c5"
   },
   "outputs": [
    {
     "name": "stdout",
     "output_type": "stream",
     "text": [
      "<class 'numpy.ndarray'>\n"
     ]
    }
   ],
   "source": [
    "print(type(A1));"
   ]
  },
  {
   "cell_type": "code",
   "execution_count": null,
   "metadata": {
    "id": "No1raYG1-IPd"
   },
   "outputs": [],
   "source": [
    "# Read through the attributes and methods in numpy.ndarray class\n",
    "## Google \"numpy.ndarray\" ---> https://docs.scipy.org/doc/numpy/reference/generated/numpy.ndarray.html\n",
    "\n",
    "## Pre-Google programmers: Read reference docs."
   ]
  },
  {
   "cell_type": "code",
   "execution_count": 4,
   "metadata": {
    "colab": {
     "base_uri": "https://localhost:8080/"
    },
    "executionInfo": {
     "elapsed": 918,
     "status": "ok",
     "timestamp": 1621001008552,
     "user": {
      "displayName": "Applied AI Course",
      "photoUrl": "https://lh3.googleusercontent.com/a-/AOh14GjjpR94Niu_srJxsFT_3bp9vDfqrjd2Zx94jDQdMg=s64",
      "userId": "06629147635963609455"
     },
     "user_tz": -330
    },
    "id": "itjFQ2hk-IPd",
    "outputId": "34e5196a-bd85-42e3-bca6-c5114891796c"
   },
   "outputs": [
    {
     "name": "stdout",
     "output_type": "stream",
     "text": [
      "[[0.69722336 0.49605012 0.42420779 0.87070976]\n",
      " [0.69003638 0.38511428 0.82111057 0.11374404]\n",
      " [0.41347018 0.02628718 0.29046345 0.15422512]\n",
      " [0.96479097 0.28143586 0.23373136 0.86639969]\n",
      " [0.51060547 0.56132075 0.61008838 0.67823643]]\n"
     ]
    }
   ],
   "source": [
    "# Create random Matrix A2\n",
    "A2 = np.random.rand(5,4);\n",
    "\n",
    "print(A2);"
   ]
  },
  {
   "cell_type": "code",
   "execution_count": 5,
   "metadata": {
    "colab": {
     "base_uri": "https://localhost:8080/"
    },
    "executionInfo": {
     "elapsed": 979,
     "status": "ok",
     "timestamp": 1621001011129,
     "user": {
      "displayName": "Applied AI Course",
      "photoUrl": "https://lh3.googleusercontent.com/a-/AOh14GjjpR94Niu_srJxsFT_3bp9vDfqrjd2Zx94jDQdMg=s64",
      "userId": "06629147635963609455"
     },
     "user_tz": -330
    },
    "id": "fv-xhX3U-IPe",
    "outputId": "a27eed2a-3c47-4f20-909c-2cc70a6e9a25"
   },
   "outputs": [
    {
     "name": "stdout",
     "output_type": "stream",
     "text": [
      "0.9368785372346667\n"
     ]
    }
   ],
   "source": [
    "# Add element wise using loops A1+A2 = B\n",
    "\n",
    "## Google \"Accessing i,j th element in an ndarray\" ---> https://docs.scipy.org/doc/numpy/reference/arrays.ndarray.html\n",
    "print(A1[2,3]);\n"
   ]
  },
  {
   "cell_type": "code",
   "execution_count": 6,
   "metadata": {
    "colab": {
     "base_uri": "https://localhost:8080/",
     "height": 163
    },
    "executionInfo": {
     "elapsed": 1237,
     "status": "error",
     "timestamp": 1621001014459,
     "user": {
      "displayName": "Applied AI Course",
      "photoUrl": "https://lh3.googleusercontent.com/a-/AOh14GjjpR94Niu_srJxsFT_3bp9vDfqrjd2Zx94jDQdMg=s64",
      "userId": "06629147635963609455"
     },
     "user_tz": -330
    },
    "id": "5v6pjkld-IPe",
    "outputId": "01b9867e-9319-4de5-89be-58f6e3303332"
   },
   "outputs": [
    {
     "ename": "TypeError",
     "evalue": "ignored",
     "output_type": "error",
     "traceback": [
      "\u001b[0;31m---------------------------------------------------------------------------\u001b[0m",
      "\u001b[0;31mTypeError\u001b[0m                                 Traceback (most recent call last)",
      "\u001b[0;32m<ipython-input-6-fd4987ece1a1>\u001b[0m in \u001b[0;36m<module>\u001b[0;34m()\u001b[0m\n\u001b[0;32m----> 1\u001b[0;31m \u001b[0mprint\u001b[0m\u001b[0;34m(\u001b[0m\u001b[0mA1\u001b[0m\u001b[0;34m(\u001b[0m\u001b[0;36m2\u001b[0m\u001b[0;34m,\u001b[0m\u001b[0;36m3\u001b[0m\u001b[0;34m)\u001b[0m\u001b[0;34m)\u001b[0m\u001b[0;34m;\u001b[0m \u001b[0;31m#COMMON_ERROR\u001b[0m\u001b[0;34m\u001b[0m\u001b[0;34m\u001b[0m\u001b[0m\n\u001b[0m",
      "\u001b[0;31mTypeError\u001b[0m: 'numpy.ndarray' object is not callable"
     ]
    }
   ],
   "source": [
    "print(A1(2,3)); #COMMON_ERROR"
   ]
  },
  {
   "cell_type": "code",
   "execution_count": 7,
   "metadata": {
    "colab": {
     "base_uri": "https://localhost:8080/"
    },
    "executionInfo": {
     "elapsed": 918,
     "status": "ok",
     "timestamp": 1621001017614,
     "user": {
      "displayName": "Applied AI Course",
      "photoUrl": "https://lh3.googleusercontent.com/a-/AOh14GjjpR94Niu_srJxsFT_3bp9vDfqrjd2Zx94jDQdMg=s64",
      "userId": "06629147635963609455"
     },
     "user_tz": -330
    },
    "id": "ne_zKySV-IPf",
    "outputId": "2e025c53-b774-4851-ba4b-c1f44ffff2a5"
   },
   "outputs": [
    {
     "name": "stdout",
     "output_type": "stream",
     "text": [
      "[[1.22875503 1.06484703 1.09360994 1.24144164]\n",
      " [0.94411751 1.3454507  1.24548381 0.28125174]\n",
      " [0.62319846 0.39526262 0.30820526 1.09110366]\n",
      " [1.25458197 0.76018318 1.12605639 1.65310878]\n",
      " [0.52042783 1.02776303 1.40173127 1.13624893]]\n"
     ]
    }
   ],
   "source": [
    "B= A1+A2; # using + operator on ndarrays\n",
    "print(B); "
   ]
  },
  {
   "cell_type": "code",
   "execution_count": 8,
   "metadata": {
    "colab": {
     "base_uri": "https://localhost:8080/"
    },
    "executionInfo": {
     "elapsed": 852,
     "status": "ok",
     "timestamp": 1621001019833,
     "user": {
      "displayName": "Applied AI Course",
      "photoUrl": "https://lh3.googleusercontent.com/a-/AOh14GjjpR94Niu_srJxsFT_3bp9vDfqrjd2Zx94jDQdMg=s64",
      "userId": "06629147635963609455"
     },
     "user_tz": -330
    },
    "id": "rx3do7cC-IPf",
    "outputId": "676833e3-8874-41be-a379-44246e7b69fd"
   },
   "outputs": [
    {
     "name": "stdout",
     "output_type": "stream",
     "text": [
      "5 4\n"
     ]
    }
   ],
   "source": [
    "(r,c) = A1.shape;\n",
    "print(r,c)"
   ]
  },
  {
   "cell_type": "code",
   "execution_count": null,
   "metadata": {
    "id": "_Rp66p0k-IPg"
   },
   "outputs": [],
   "source": [
    "#B[i,j] = A1[i,j] + A2 [i,j] \n",
    "\n",
    "for i in range(r):\n",
    "    for j in range(c):\n",
    "        B[i,j] = A1[i,j] + A2[i,j];\n",
    "        \n",
    "print(B)"
   ]
  },
  {
   "cell_type": "code",
   "execution_count": null,
   "metadata": {
    "id": "n3OHZezn-IPg"
   },
   "outputs": [],
   "source": [
    "# OPTIMIZATION: Pre-allocate matrix B\n",
    "B = np.zeros(5,4); # COMMON-ERROR"
   ]
  },
  {
   "cell_type": "code",
   "execution_count": null,
   "metadata": {
    "id": "zmBaIGXT-IPg"
   },
   "outputs": [],
   "source": [
    "#Google \"np.zeros\" ---> https://docs.scipy.org/doc/numpy/reference/generated/numpy.zeros.html\n",
    "B = np.zeros((5,4))\n",
    "\n",
    "for i in range(r): # same code as earlier\n",
    "    for j in range(c):\n",
    "        B[i,j] = A1[i,j] + A2[i,j];\n",
    "        \n",
    "print(B)"
   ]
  },
  {
   "cell_type": "code",
   "execution_count": null,
   "metadata": {
    "id": "b2R7VyiM-IPh"
   },
   "outputs": [],
   "source": [
    "# Time Complexity: ?\n",
    "# Space Complxiety: ?"
   ]
  },
  {
   "cell_type": "markdown",
   "metadata": {
    "id": "udTsFwq0-IPh"
   },
   "source": [
    "#### Exercise: Add two randomly generated NumPy 3D-matrices(tensor) using loops \n",
    "\n",
    "HINT: B[i,j,k] = A1[i,j,k] + A2[i,j,k]\n",
    "****************************************************************************************************************\n",
    "****************************************************************************************************************\n",
    "****************************************************************************************************************"
   ]
  },
  {
   "cell_type": "markdown",
   "metadata": {
    "id": "6lRyhkK--IPi"
   },
   "source": [
    "### Problem 2: Find if a given 2D-point is inside (or) outside a circle \n",
    "    - Subproblems.\n",
    "    - Subproblems --> coding concepts.\n",
    "    - putting it all together.\n",
    "    - Exercise: Find if a given 2D point is inside (or) outside a rectangle ? \n",
    "   "
   ]
  },
  {
   "cell_type": "code",
   "execution_count": null,
   "metadata": {
    "id": "Qsbb7TXN-IPi",
    "outputId": "9ba26f93-b0dc-4e35-b498-2f2330dac65f"
   },
   "outputs": [
    {
     "name": "stdout",
     "output_type": "stream",
     "text": [
      "Enter Cx, Cy, r:\n"
     ]
    },
    {
     "ename": "KeyboardInterrupt",
     "evalue": "",
     "output_type": "error",
     "traceback": [
      "\u001b[0;31m---------------------------------------------------------------------------\u001b[0m",
      "\u001b[0;31mKeyboardInterrupt\u001b[0m                         Traceback (most recent call last)",
      "\u001b[0;32m<ipython-input-48-ffdf3a712ac9>\u001b[0m in \u001b[0;36m<module>\u001b[0;34m()\u001b[0m\n\u001b[1;32m      4\u001b[0m \u001b[0;31m# Google \" input multiple values python 3\" ---> https://www.geeksforgeeks.org/input-multiple-values-user-one-line-python/\u001b[0m\u001b[0;34m\u001b[0m\u001b[0;34m\u001b[0m\u001b[0m\n\u001b[1;32m      5\u001b[0m \u001b[0;32mprint\u001b[0m\u001b[0;34m(\u001b[0m\u001b[0;34m\"Enter Cx, Cy, r:\"\u001b[0m\u001b[0;34m)\u001b[0m\u001b[0;34m;\u001b[0m\u001b[0;34m\u001b[0m\u001b[0m\n\u001b[0;32m----> 6\u001b[0;31m \u001b[0;34m(\u001b[0m\u001b[0mCx\u001b[0m\u001b[0;34m,\u001b[0m \u001b[0mCy\u001b[0m\u001b[0;34m,\u001b[0m \u001b[0mr\u001b[0m\u001b[0;34m)\u001b[0m \u001b[0;34m=\u001b[0m \u001b[0mraw_input\u001b[0m\u001b[0;34m(\u001b[0m\u001b[0;34m)\u001b[0m\u001b[0;34m.\u001b[0m\u001b[0msplit\u001b[0m\u001b[0;34m(\u001b[0m\u001b[0;34m)\u001b[0m\u001b[0;34m;\u001b[0m\u001b[0;34m\u001b[0m\u001b[0m\n\u001b[0m\u001b[1;32m      7\u001b[0m \u001b[0;34m\u001b[0m\u001b[0m\n\u001b[1;32m      8\u001b[0m \u001b[0;32mprint\u001b[0m\u001b[0;34m(\u001b[0m\u001b[0mCx\u001b[0m\u001b[0;34m,\u001b[0m \u001b[0mCy\u001b[0m\u001b[0;34m,\u001b[0m \u001b[0mr\u001b[0m\u001b[0;34m)\u001b[0m\u001b[0;34m;\u001b[0m \u001b[0;31m# always cross check using print statements\u001b[0m\u001b[0;34m\u001b[0m\u001b[0m\n",
      "\u001b[0;32m/usr/local/lib/python2.7/site-packages/ipykernel/kernelbase.pyc\u001b[0m in \u001b[0;36mraw_input\u001b[0;34m(self, prompt)\u001b[0m\n\u001b[1;32m    702\u001b[0m             \u001b[0mself\u001b[0m\u001b[0;34m.\u001b[0m\u001b[0m_parent_ident\u001b[0m\u001b[0;34m,\u001b[0m\u001b[0;34m\u001b[0m\u001b[0m\n\u001b[1;32m    703\u001b[0m             \u001b[0mself\u001b[0m\u001b[0;34m.\u001b[0m\u001b[0m_parent_header\u001b[0m\u001b[0;34m,\u001b[0m\u001b[0;34m\u001b[0m\u001b[0m\n\u001b[0;32m--> 704\u001b[0;31m             \u001b[0mpassword\u001b[0m\u001b[0;34m=\u001b[0m\u001b[0mFalse\u001b[0m\u001b[0;34m,\u001b[0m\u001b[0;34m\u001b[0m\u001b[0m\n\u001b[0m\u001b[1;32m    705\u001b[0m         )\n\u001b[1;32m    706\u001b[0m \u001b[0;34m\u001b[0m\u001b[0m\n",
      "\u001b[0;32m/usr/local/lib/python2.7/site-packages/ipykernel/kernelbase.pyc\u001b[0m in \u001b[0;36m_input_request\u001b[0;34m(self, prompt, ident, parent, password)\u001b[0m\n\u001b[1;32m    732\u001b[0m             \u001b[0;32mexcept\u001b[0m \u001b[0mKeyboardInterrupt\u001b[0m\u001b[0;34m:\u001b[0m\u001b[0;34m\u001b[0m\u001b[0m\n\u001b[1;32m    733\u001b[0m                 \u001b[0;31m# re-raise KeyboardInterrupt, to truncate traceback\u001b[0m\u001b[0;34m\u001b[0m\u001b[0;34m\u001b[0m\u001b[0m\n\u001b[0;32m--> 734\u001b[0;31m                 \u001b[0;32mraise\u001b[0m \u001b[0mKeyboardInterrupt\u001b[0m\u001b[0;34m\u001b[0m\u001b[0m\n\u001b[0m\u001b[1;32m    735\u001b[0m             \u001b[0;32melse\u001b[0m\u001b[0;34m:\u001b[0m\u001b[0;34m\u001b[0m\u001b[0m\n\u001b[1;32m    736\u001b[0m                 \u001b[0;32mbreak\u001b[0m\u001b[0;34m\u001b[0m\u001b[0m\n",
      "\u001b[0;31mKeyboardInterrupt\u001b[0m: "
     ]
    }
   ],
   "source": [
    "## input circle (C) and point(P)\n",
    "\n",
    "# input circle params\n",
    "# Google \" input multiple values python 3\" ---> https://www.geeksforgeeks.org/input-multiple-values-user-one-line-python/\n",
    "print(\"Enter Cx, Cy, r:\");\n",
    "(Cx, Cy, r) = raw_input().split();\n",
    "\n",
    "print(Cx, Cy, r); # always cross check using print statements"
   ]
  },
  {
   "cell_type": "code",
   "execution_count": null,
   "metadata": {
    "colab": {
     "base_uri": "https://localhost:8080/"
    },
    "executionInfo": {
     "elapsed": 14922,
     "status": "ok",
     "timestamp": 1620978214771,
     "user": {
      "displayName": "Applied AI Course",
      "photoUrl": "https://lh3.googleusercontent.com/a-/AOh14GjjpR94Niu_srJxsFT_3bp9vDfqrjd2Zx94jDQdMg=s64",
      "userId": "06629147635963609455"
     },
     "user_tz": -330
    },
    "id": "fRyYZ8gw-IPj",
    "outputId": "c40b39a0-2d72-472f-d059-8dbae90e30a2"
   },
   "outputs": [
    {
     "name": "stdout",
     "output_type": "stream",
     "text": [
      "Enter Cx, Cy, r:0.0 0.0 0.5\n",
      "0.0 0.0 0.5\n"
     ]
    }
   ],
   "source": [
    "# input circle params\n",
    "## Google \"python input multiple values in single line\" ----> https://www.tutorialspoint.com/how-to-input-multiple-values-from-user-in-one-line-in-python\n",
    "## TRY MULTIPLE APPROACHES and learn from each attempt.\n",
    "\n",
    "Cx, Cy, r = input(\"Enter Cx, Cy, r:\").split();\n",
    "print(Cx, Cy, r)\n"
   ]
  },
  {
   "cell_type": "code",
   "execution_count": null,
   "metadata": {
    "colab": {
     "base_uri": "https://localhost:8080/",
     "height": 178
    },
    "executionInfo": {
     "elapsed": 925,
     "status": "error",
     "timestamp": 1620977998376,
     "user": {
      "displayName": "Applied AI Course",
      "photoUrl": "https://lh3.googleusercontent.com/a-/AOh14GjjpR94Niu_srJxsFT_3bp9vDfqrjd2Zx94jDQdMg=s64",
      "userId": "06629147635963609455"
     },
     "user_tz": -330
    },
    "id": "tdVuZyuB-IPj",
    "outputId": "c113333a-4957-49bb-bf3a-4249dc924644"
   },
   "outputs": [
    {
     "ename": "NameError",
     "evalue": "ignored",
     "output_type": "error",
     "traceback": [
      "\u001b[0;31m---------------------------------------------------------------------------\u001b[0m",
      "\u001b[0;31mNameError\u001b[0m                                 Traceback (most recent call last)",
      "\u001b[0;32m<ipython-input-5-6be3c322fdea>\u001b[0m in \u001b[0;36m<module>\u001b[0;34m()\u001b[0m\n\u001b[1;32m      1\u001b[0m \u001b[0;31m# Google \" SyntaxError: invalid syntax input Python3 string\" --> https://stackoverflow.com/questions/25174925/syntax-error-for-input\u001b[0m\u001b[0;34m\u001b[0m\u001b[0;34m\u001b[0m\u001b[0;34m\u001b[0m\u001b[0m\n\u001b[0;32m----> 2\u001b[0;31m \u001b[0mCx\u001b[0m\u001b[0;34m,\u001b[0m \u001b[0mCy\u001b[0m\u001b[0;34m,\u001b[0m \u001b[0mr\u001b[0m \u001b[0;34m=\u001b[0m \u001b[0mraw_input\u001b[0m\u001b[0;34m(\u001b[0m\u001b[0;34m\"Enter Cx, Cy, r:\"\u001b[0m\u001b[0;34m)\u001b[0m\u001b[0;34m.\u001b[0m\u001b[0msplit\u001b[0m\u001b[0;34m(\u001b[0m\u001b[0;34m)\u001b[0m\u001b[0;34m;\u001b[0m\u001b[0;34m\u001b[0m\u001b[0;34m\u001b[0m\u001b[0m\n\u001b[0m",
      "\u001b[0;31mNameError\u001b[0m: name 'raw_input' is not defined"
     ]
    }
   ],
   "source": [
    "# Google \" SyntaxError: invalid syntax input Python3 string\" --> https://stackoverflow.com/questions/25174925/syntax-error-for-input\n",
    "Cx, Cy, r = raw_input(\"Enter Cx, Cy, r:\").split();\n"
   ]
  },
  {
   "cell_type": "code",
   "execution_count": null,
   "metadata": {
    "id": "D0ISeL0O-IPj",
    "outputId": "44edca2a-fe8e-4714-eb85-d3608f971c01"
   },
   "outputs": [
    {
     "name": "stdout",
     "output_type": "stream",
     "text": [
      "('0.0', '0.0', '5.0')\n"
     ]
    }
   ],
   "source": [
    "print(Cx, Cy,r)"
   ]
  },
  {
   "cell_type": "code",
   "execution_count": null,
   "metadata": {
    "id": "52hoPbDU-IPk",
    "outputId": "13aeb104-537e-4ef7-c42a-162f396e5d57"
   },
   "outputs": [
    {
     "name": "stdout",
     "output_type": "stream",
     "text": [
      "Enter Px, Py:1.0 1.0\n",
      "('1.0', '1.0')\n"
     ]
    }
   ],
   "source": [
    "# Input Px, Py\n",
    "\n",
    "Px, Py = raw_input(\"Enter Px, Py:\").split()\n",
    "print(Px, Py);"
   ]
  },
  {
   "cell_type": "code",
   "execution_count": null,
   "metadata": {
    "id": "n93qPm-2-IPk",
    "outputId": "ae078b7d-2a6a-47c7-beec-2a91675d105c",
    "scrolled": true
   },
   "outputs": [
    {
     "ename": "TypeError",
     "evalue": "unsupported operand type(s) for -: 'str' and 'str'",
     "output_type": "error",
     "traceback": [
      "\u001b[0;31m---------------------------------------------------------------------------\u001b[0m",
      "\u001b[0;31mTypeError\u001b[0m                                 Traceback (most recent call last)",
      "\u001b[0;32m<ipython-input-65-4b09315aa2ad>\u001b[0m in \u001b[0;36m<module>\u001b[0;34m()\u001b[0m\n\u001b[1;32m      1\u001b[0m \u001b[0;31m# Check if P lies in C.\u001b[0m\u001b[0;34m\u001b[0m\u001b[0;34m\u001b[0m\u001b[0m\n\u001b[0;32m----> 2\u001b[0;31m \u001b[0md\u001b[0m \u001b[0;34m=\u001b[0m \u001b[0;34m(\u001b[0m \u001b[0;34m(\u001b[0m\u001b[0mCx\u001b[0m\u001b[0;34m-\u001b[0m\u001b[0mPx\u001b[0m\u001b[0;34m)\u001b[0m\u001b[0;34m**\u001b[0m\u001b[0;36m2\u001b[0m \u001b[0;34m+\u001b[0m \u001b[0;34m(\u001b[0m\u001b[0mCy\u001b[0m\u001b[0;34m-\u001b[0m\u001b[0mPy\u001b[0m\u001b[0;34m)\u001b[0m\u001b[0;34m**\u001b[0m\u001b[0;36m2\u001b[0m \u001b[0;34m)\u001b[0m\u001b[0;34m\u001b[0m\u001b[0m\n\u001b[0m\u001b[1;32m      3\u001b[0m \u001b[0;32mprint\u001b[0m\u001b[0;34m(\u001b[0m\u001b[0md\u001b[0m\u001b[0;34m)\u001b[0m\u001b[0;34m;\u001b[0m\u001b[0;34m\u001b[0m\u001b[0m\n\u001b[1;32m      4\u001b[0m \u001b[0;34m\u001b[0m\u001b[0m\n\u001b[1;32m      5\u001b[0m \u001b[0;32mif\u001b[0m \u001b[0md\u001b[0m\u001b[0;34m<\u001b[0m\u001b[0mr\u001b[0m\u001b[0;34m:\u001b[0m\u001b[0;34m\u001b[0m\u001b[0m\n",
      "\u001b[0;31mTypeError\u001b[0m: unsupported operand type(s) for -: 'str' and 'str'"
     ]
    }
   ],
   "source": [
    "# Check if P lies in C.\n",
    "d = ( (Cx-Px)**2 + (Cy-Py)**2 )\n",
    "print(d);\n",
    "\n",
    "if d<r:\n",
    "    print(\"P in C\")\n",
    "else:\n",
    "    print(\"P NOT in C\")"
   ]
  },
  {
   "cell_type": "code",
   "execution_count": null,
   "metadata": {
    "id": "nmFLyXGi-IPl",
    "outputId": "a85e0281-a721-400e-87e8-86a4f287e433"
   },
   "outputs": [
    {
     "name": "stdout",
     "output_type": "stream",
     "text": [
      "1.41421356237\n",
      "P in C\n"
     ]
    }
   ],
   "source": [
    "# Check if P lies in C.\n",
    "\n",
    "## String to Float. Very important to note that split() returns Strings\n",
    "Cx = float(Cx);\n",
    "Cy = float(Cy);\n",
    "r =float(r);\n",
    "Px= float(Px);\n",
    "Py = float(Py);\n",
    "\n",
    "import math \n",
    "\n",
    "d = math.sqrt( (Cx-Px)**2 + (Cy-Py)**2 )\n",
    "print(d);\n",
    "\n",
    "if d<r:\n",
    "    print(\"P in C\")\n",
    "else:\n",
    "    print(\"P NOT in C\")"
   ]
  },
  {
   "cell_type": "markdown",
   "metadata": {
    "id": "ykY_t1TV-IPl"
   },
   "source": [
    "#### Exercise: Find if a point is inside or outside a rectangle.\n",
    "\n",
    "HINT: How do you represent a rectangle?\n",
    "\n",
    "********************************************\n",
    "********************************************\n",
    "********************************************"
   ]
  },
  {
   "cell_type": "markdown",
   "metadata": {
    "id": "GUrAkPph-IPl"
   },
   "source": [
    "### Problem 3: NumPy ndarray manupualtion operations\n"
   ]
  },
  {
   "cell_type": "code",
   "execution_count": null,
   "metadata": {
    "id": "TjmKcKDE-IPm",
    "outputId": "f5bae4f6-8002-409d-e582-6a589b616012"
   },
   "outputs": [
    {
     "name": "stdout",
     "output_type": "stream",
     "text": [
      "[[0.14807421 0.76465119 0.35072274 0.44772859]\n",
      " [0.76310969 0.60355746 0.39205106 0.55551216]\n",
      " [0.52171983 0.14015325 0.07435462 0.84967035]\n",
      " [0.31052941 0.57171621 0.36938534 0.92015166]\n",
      " [0.14458459 0.12976042 0.4790811  0.98251111]]\n"
     ]
    }
   ],
   "source": [
    "# 1. Reshape matrices: Very COMMON-ERRORS in Assignments\n",
    "A = np.random.rand(5,4);\n",
    "print(A);\n"
   ]
  },
  {
   "cell_type": "code",
   "execution_count": 9,
   "metadata": {
    "colab": {
     "base_uri": "https://localhost:8080/",
     "height": 197
    },
    "executionInfo": {
     "elapsed": 1016,
     "status": "error",
     "timestamp": 1621001046092,
     "user": {
      "displayName": "Applied AI Course",
      "photoUrl": "https://lh3.googleusercontent.com/a-/AOh14GjjpR94Niu_srJxsFT_3bp9vDfqrjd2Zx94jDQdMg=s64",
      "userId": "06629147635963609455"
     },
     "user_tz": -330
    },
    "id": "KUTZ3cls-IPm",
    "outputId": "f64471a2-9927-4ba5-a5ca-25c9da7029a2"
   },
   "outputs": [
    {
     "ename": "NameError",
     "evalue": "ignored",
     "output_type": "error",
     "traceback": [
      "\u001b[0;31m---------------------------------------------------------------------------\u001b[0m",
      "\u001b[0;31mNameError\u001b[0m                                 Traceback (most recent call last)",
      "\u001b[0;32m<ipython-input-9-594156680262>\u001b[0m in \u001b[0;36m<module>\u001b[0;34m()\u001b[0m\n\u001b[1;32m      2\u001b[0m \u001b[0;31m###https://docs.scipy.org/doc/numpy/reference/generated/numpy.reshape.html\u001b[0m\u001b[0;34m\u001b[0m\u001b[0;34m\u001b[0m\u001b[0;34m\u001b[0m\u001b[0m\n\u001b[1;32m      3\u001b[0m \u001b[0;31m### Patiently read the documentation and try alternaive params\u001b[0m\u001b[0;34m\u001b[0m\u001b[0;34m\u001b[0m\u001b[0;34m\u001b[0m\u001b[0m\n\u001b[0;32m----> 4\u001b[0;31m \u001b[0mprint\u001b[0m\u001b[0;34m(\u001b[0m \u001b[0mnp\u001b[0m\u001b[0;34m.\u001b[0m\u001b[0mreshape\u001b[0m\u001b[0;34m(\u001b[0m\u001b[0mA\u001b[0m\u001b[0;34m,\u001b[0m \u001b[0;36m20\u001b[0m\u001b[0;34m,\u001b[0m \u001b[0;34m'C'\u001b[0m\u001b[0;34m)\u001b[0m\u001b[0;34m)\u001b[0m\u001b[0;34m\u001b[0m\u001b[0;34m\u001b[0m\u001b[0m\n\u001b[0m",
      "\u001b[0;31mNameError\u001b[0m: name 'A' is not defined"
     ]
    }
   ],
   "source": [
    "## reshape into a vector row-major-order\n",
    "###https://docs.scipy.org/doc/numpy/reference/generated/numpy.reshape.html \n",
    "### Patiently read the documentation and try alternaive params\n",
    "print( np.reshape(A, 20, 'C'))\n"
   ]
  },
  {
   "cell_type": "code",
   "execution_count": null,
   "metadata": {
    "id": "Q5kQWL5p-IPm",
    "outputId": "c58582d1-7ff2-4fbc-b173-9d5b4db07248"
   },
   "outputs": [
    {
     "name": "stdout",
     "output_type": "stream",
     "text": [
      "[0.14807421 0.76310969 0.52171983 0.31052941 0.14458459 0.76465119\n",
      " 0.60355746 0.14015325 0.57171621 0.12976042 0.35072274 0.39205106\n",
      " 0.07435462 0.36938534 0.4790811  0.44772859 0.55551216 0.84967035\n",
      " 0.92015166 0.98251111]\n"
     ]
    }
   ],
   "source": [
    "print( np.reshape(A, 20, 'F'))"
   ]
  },
  {
   "cell_type": "code",
   "execution_count": null,
   "metadata": {
    "id": "NelYjP4Y-IPm",
    "outputId": "04c39daf-cc3f-4317-da09-7eb3af67a08e"
   },
   "outputs": [
    {
     "name": "stdout",
     "output_type": "stream",
     "text": [
      "[[0.14807421 0.76465119 0.35072274 0.44772859 0.76310969]\n",
      " [0.60355746 0.39205106 0.55551216 0.52171983 0.14015325]\n",
      " [0.07435462 0.84967035 0.31052941 0.57171621 0.36938534]\n",
      " [0.92015166 0.14458459 0.12976042 0.4790811  0.98251111]]\n"
     ]
    }
   ],
   "source": [
    "print( np.reshape(A, (4,5), 'C'))"
   ]
  },
  {
   "cell_type": "code",
   "execution_count": null,
   "metadata": {
    "id": "dLQuXHpi-IPn",
    "outputId": "8b19ff7e-ead4-4328-e676-f4e2973210ba"
   },
   "outputs": [
    {
     "name": "stdout",
     "output_type": "stream",
     "text": [
      "[[0.14807421 0.76465119 0.35072274 0.44772859 0.76310969]\n",
      " [0.60355746 0.39205106 0.55551216 0.52171983 0.14015325]\n",
      " [0.07435462 0.84967035 0.31052941 0.57171621 0.36938534]\n",
      " [0.92015166 0.14458459 0.12976042 0.4790811  0.98251111]]\n"
     ]
    }
   ],
   "source": [
    "print( np.reshape(A, (4,-1), 'C'))"
   ]
  },
  {
   "cell_type": "code",
   "execution_count": null,
   "metadata": {
    "id": "Fff3Q4m1-IPn",
    "outputId": "b18e8435-d0f7-406a-a125-45a749d7550f"
   },
   "outputs": [
    {
     "name": "stdout",
     "output_type": "stream",
     "text": [
      "[[0.14807421 0.76465119 0.35072274 0.44772859 0.76310969]\n",
      " [0.60355746 0.39205106 0.55551216 0.52171983 0.14015325]\n",
      " [0.07435462 0.84967035 0.31052941 0.57171621 0.36938534]\n",
      " [0.92015166 0.14458459 0.12976042 0.4790811  0.98251111]]\n"
     ]
    }
   ],
   "source": [
    "print( np.reshape(A, (-1,5), 'C'))"
   ]
  },
  {
   "cell_type": "code",
   "execution_count": null,
   "metadata": {
    "id": "9Xp1gFHW-IPo",
    "outputId": "17470a96-3b1a-4498-80f9-64a029d0568d"
   },
   "outputs": [
    {
     "ename": "ValueError",
     "evalue": "cannot reshape array of size 20 into shape (4,6)",
     "output_type": "error",
     "traceback": [
      "\u001b[0;31m---------------------------------------------------------------------------\u001b[0m",
      "\u001b[0;31mValueError\u001b[0m                                Traceback (most recent call last)",
      "\u001b[0;32m<ipython-input-77-fcf31998dfe0>\u001b[0m in \u001b[0;36m<module>\u001b[0;34m()\u001b[0m\n\u001b[0;32m----> 1\u001b[0;31m \u001b[0;32mprint\u001b[0m\u001b[0;34m(\u001b[0m \u001b[0mnp\u001b[0m\u001b[0;34m.\u001b[0m\u001b[0mreshape\u001b[0m\u001b[0;34m(\u001b[0m\u001b[0mA\u001b[0m\u001b[0;34m,\u001b[0m \u001b[0;34m(\u001b[0m\u001b[0;36m4\u001b[0m\u001b[0;34m,\u001b[0m\u001b[0;36m6\u001b[0m\u001b[0;34m)\u001b[0m\u001b[0;34m,\u001b[0m \u001b[0;34m'C'\u001b[0m\u001b[0;34m)\u001b[0m\u001b[0;34m)\u001b[0m\u001b[0;34m\u001b[0m\u001b[0m\n\u001b[0m",
      "\u001b[0;32m/usr/local/lib/python2.7/site-packages/numpy/core/fromnumeric.pyc\u001b[0m in \u001b[0;36mreshape\u001b[0;34m(a, newshape, order)\u001b[0m\n\u001b[1;32m    290\u001b[0m            [5, 6]])\n\u001b[1;32m    291\u001b[0m     \"\"\"\n\u001b[0;32m--> 292\u001b[0;31m     \u001b[0;32mreturn\u001b[0m \u001b[0m_wrapfunc\u001b[0m\u001b[0;34m(\u001b[0m\u001b[0ma\u001b[0m\u001b[0;34m,\u001b[0m \u001b[0;34m'reshape'\u001b[0m\u001b[0;34m,\u001b[0m \u001b[0mnewshape\u001b[0m\u001b[0;34m,\u001b[0m \u001b[0morder\u001b[0m\u001b[0;34m=\u001b[0m\u001b[0morder\u001b[0m\u001b[0;34m)\u001b[0m\u001b[0;34m\u001b[0m\u001b[0m\n\u001b[0m\u001b[1;32m    293\u001b[0m \u001b[0;34m\u001b[0m\u001b[0m\n\u001b[1;32m    294\u001b[0m \u001b[0;34m\u001b[0m\u001b[0m\n",
      "\u001b[0;32m/usr/local/lib/python2.7/site-packages/numpy/core/fromnumeric.pyc\u001b[0m in \u001b[0;36m_wrapfunc\u001b[0;34m(obj, method, *args, **kwds)\u001b[0m\n\u001b[1;32m     54\u001b[0m \u001b[0;32mdef\u001b[0m \u001b[0m_wrapfunc\u001b[0m\u001b[0;34m(\u001b[0m\u001b[0mobj\u001b[0m\u001b[0;34m,\u001b[0m \u001b[0mmethod\u001b[0m\u001b[0;34m,\u001b[0m \u001b[0;34m*\u001b[0m\u001b[0margs\u001b[0m\u001b[0;34m,\u001b[0m \u001b[0;34m**\u001b[0m\u001b[0mkwds\u001b[0m\u001b[0;34m)\u001b[0m\u001b[0;34m:\u001b[0m\u001b[0;34m\u001b[0m\u001b[0m\n\u001b[1;32m     55\u001b[0m     \u001b[0;32mtry\u001b[0m\u001b[0;34m:\u001b[0m\u001b[0;34m\u001b[0m\u001b[0m\n\u001b[0;32m---> 56\u001b[0;31m         \u001b[0;32mreturn\u001b[0m \u001b[0mgetattr\u001b[0m\u001b[0;34m(\u001b[0m\u001b[0mobj\u001b[0m\u001b[0;34m,\u001b[0m \u001b[0mmethod\u001b[0m\u001b[0;34m)\u001b[0m\u001b[0;34m(\u001b[0m\u001b[0;34m*\u001b[0m\u001b[0margs\u001b[0m\u001b[0;34m,\u001b[0m \u001b[0;34m**\u001b[0m\u001b[0mkwds\u001b[0m\u001b[0;34m)\u001b[0m\u001b[0;34m\u001b[0m\u001b[0m\n\u001b[0m\u001b[1;32m     57\u001b[0m \u001b[0;34m\u001b[0m\u001b[0m\n\u001b[1;32m     58\u001b[0m     \u001b[0;31m# An AttributeError occurs if the object does not have\u001b[0m\u001b[0;34m\u001b[0m\u001b[0;34m\u001b[0m\u001b[0m\n",
      "\u001b[0;31mValueError\u001b[0m: cannot reshape array of size 20 into shape (4,6)"
     ]
    }
   ],
   "source": [
    "print( np.reshape(A, (4,6), 'C'))"
   ]
  },
  {
   "cell_type": "markdown",
   "metadata": {
    "id": "lJZBGckT-IPq"
   },
   "source": [
    "#### Exercise: take a tensor of size 4X5X6 and convert it into a tensor of vector and matrix (10X12)."
   ]
  },
  {
   "cell_type": "code",
   "execution_count": null,
   "metadata": {
    "id": "Fw9KWRho-IPq",
    "outputId": "1bd637c1-583f-4297-c90f-fe35f473ac38"
   },
   "outputs": [
    {
     "name": "stdout",
     "output_type": "stream",
     "text": [
      "[[0.4543747  0.64690556 0.01325659 0.4005741 ]\n",
      " [0.37270572 0.9229127  0.11746422 0.23759922]\n",
      " [0.91889495 0.53198908 0.40542735 0.57103514]\n",
      " [0.2562349  0.96441954 0.77128697 0.98914802]\n",
      " [0.5388144  0.79256948 0.58861248 0.5072647 ]]\n",
      "[[0.93198709 0.02293127]\n",
      " [0.84602856 0.18276059]\n",
      " [0.00741556 0.54525969]\n",
      " [0.33630522 0.79257607]\n",
      " [0.00361456 0.58644709]]\n"
     ]
    }
   ],
   "source": [
    "#2. Stacking\n",
    "A = np.random.rand(5,4);\n",
    "print(A);\n",
    "\n",
    "B= np.random.rand(5,2);\n",
    "print(B)\n"
   ]
  },
  {
   "cell_type": "code",
   "execution_count": null,
   "metadata": {
    "id": "JroJWl4q-IPr",
    "outputId": "ff996985-fc6a-4015-f69b-3f552e45e7a5",
    "scrolled": true
   },
   "outputs": [
    {
     "ename": "TypeError",
     "evalue": "hstack() takes exactly 1 argument (2 given)",
     "output_type": "error",
     "traceback": [
      "\u001b[0;31m---------------------------------------------------------------------------\u001b[0m",
      "\u001b[0;31mTypeError\u001b[0m                                 Traceback (most recent call last)",
      "\u001b[0;32m<ipython-input-79-d92124e01823>\u001b[0m in \u001b[0;36m<module>\u001b[0;34m()\u001b[0m\n\u001b[1;32m      1\u001b[0m \u001b[0;31m# C = [A B]\u001b[0m\u001b[0;34m\u001b[0m\u001b[0;34m\u001b[0m\u001b[0m\n\u001b[0;32m----> 2\u001b[0;31m \u001b[0mC\u001b[0m \u001b[0;34m=\u001b[0m \u001b[0mnp\u001b[0m\u001b[0;34m.\u001b[0m\u001b[0mhstack\u001b[0m\u001b[0;34m(\u001b[0m\u001b[0mA\u001b[0m\u001b[0;34m,\u001b[0m \u001b[0mB\u001b[0m\u001b[0;34m)\u001b[0m\u001b[0;34m;\u001b[0m\u001b[0;34m\u001b[0m\u001b[0m\n\u001b[0m\u001b[1;32m      3\u001b[0m \u001b[0;32mprint\u001b[0m\u001b[0;34m(\u001b[0m\u001b[0mC\u001b[0m\u001b[0;34m)\u001b[0m\u001b[0;34m\u001b[0m\u001b[0m\n",
      "\u001b[0;31mTypeError\u001b[0m: hstack() takes exactly 1 argument (2 given)"
     ]
    }
   ],
   "source": [
    "# C = [A B]\n",
    "C = np.hstack(A, B);\n",
    "print(C)"
   ]
  },
  {
   "cell_type": "code",
   "execution_count": null,
   "metadata": {
    "id": "BwOHmm_x-IPs",
    "outputId": "2bfafa2a-9d1b-44cc-c3bb-e2754f983af6"
   },
   "outputs": [
    {
     "name": "stdout",
     "output_type": "stream",
     "text": [
      "[[0.4543747  0.64690556 0.01325659 0.4005741  0.93198709 0.02293127]\n",
      " [0.37270572 0.9229127  0.11746422 0.23759922 0.84602856 0.18276059]\n",
      " [0.91889495 0.53198908 0.40542735 0.57103514 0.00741556 0.54525969]\n",
      " [0.2562349  0.96441954 0.77128697 0.98914802 0.33630522 0.79257607]\n",
      " [0.5388144  0.79256948 0.58861248 0.5072647  0.00361456 0.58644709]]\n"
     ]
    }
   ],
   "source": [
    "C = np.hstack((A, B)); # read documentation carefully\n",
    "print(C)"
   ]
  },
  {
   "cell_type": "code",
   "execution_count": null,
   "metadata": {
    "id": "xnQ8MTRt-IPs",
    "outputId": "fb49881b-76f6-48b1-b7fc-68ba9e1aec59"
   },
   "outputs": [
    {
     "name": "stdout",
     "output_type": "stream",
     "text": [
      "[[0.07442156 0.90842643 0.26791901 0.52103986]\n",
      " [0.31627629 0.96720084 0.92801681 0.29094456]\n",
      " [0.92762484 0.2036012  0.62790382 0.21155578]\n",
      " [0.03114235 0.02227744 0.45126548 0.07824812]\n",
      " [0.31206675 0.12787428 0.78704942 0.95472092]]\n",
      "[[0.74204087 0.3375716  0.53499921 0.64780102]\n",
      " [0.95762786 0.35441587 0.99187725 0.38097213]\n",
      " [0.34547302 0.48853482 0.85121261 0.81847693]\n",
      " [0.1783305  0.40696326 0.71089858 0.49241374]]\n"
     ]
    },
    {
     "ename": "ValueError",
     "evalue": "all the input array dimensions except for the concatenation axis must match exactly",
     "output_type": "error",
     "traceback": [
      "\u001b[0;31m---------------------------------------------------------------------------\u001b[0m",
      "\u001b[0;31mValueError\u001b[0m                                Traceback (most recent call last)",
      "\u001b[0;32m<ipython-input-84-daed3de7c0c2>\u001b[0m in \u001b[0;36m<module>\u001b[0;34m()\u001b[0m\n\u001b[1;32m      5\u001b[0m \u001b[0;32mprint\u001b[0m\u001b[0;34m(\u001b[0m\u001b[0mB\u001b[0m\u001b[0;34m)\u001b[0m\u001b[0;34m\u001b[0m\u001b[0m\n\u001b[1;32m      6\u001b[0m \u001b[0;34m\u001b[0m\u001b[0m\n\u001b[0;32m----> 7\u001b[0;31m \u001b[0mC\u001b[0m \u001b[0;34m=\u001b[0m \u001b[0mnp\u001b[0m\u001b[0;34m.\u001b[0m\u001b[0mhstack\u001b[0m\u001b[0;34m(\u001b[0m\u001b[0;34m(\u001b[0m\u001b[0mA\u001b[0m\u001b[0;34m,\u001b[0m \u001b[0mB\u001b[0m\u001b[0;34m)\u001b[0m\u001b[0;34m)\u001b[0m\u001b[0;34m;\u001b[0m\u001b[0;34m\u001b[0m\u001b[0m\n\u001b[0m\u001b[1;32m      8\u001b[0m \u001b[0;32mprint\u001b[0m\u001b[0;34m(\u001b[0m\u001b[0mC\u001b[0m\u001b[0;34m)\u001b[0m\u001b[0;34m\u001b[0m\u001b[0m\n",
      "\u001b[0;32m/usr/local/lib/python2.7/site-packages/numpy/core/shape_base.pyc\u001b[0m in \u001b[0;36mhstack\u001b[0;34m(tup)\u001b[0m\n\u001b[1;32m    338\u001b[0m         \u001b[0;32mreturn\u001b[0m \u001b[0m_nx\u001b[0m\u001b[0;34m.\u001b[0m\u001b[0mconcatenate\u001b[0m\u001b[0;34m(\u001b[0m\u001b[0marrs\u001b[0m\u001b[0;34m,\u001b[0m \u001b[0;36m0\u001b[0m\u001b[0;34m)\u001b[0m\u001b[0;34m\u001b[0m\u001b[0m\n\u001b[1;32m    339\u001b[0m     \u001b[0;32melse\u001b[0m\u001b[0;34m:\u001b[0m\u001b[0;34m\u001b[0m\u001b[0m\n\u001b[0;32m--> 340\u001b[0;31m         \u001b[0;32mreturn\u001b[0m \u001b[0m_nx\u001b[0m\u001b[0;34m.\u001b[0m\u001b[0mconcatenate\u001b[0m\u001b[0;34m(\u001b[0m\u001b[0marrs\u001b[0m\u001b[0;34m,\u001b[0m \u001b[0;36m1\u001b[0m\u001b[0;34m)\u001b[0m\u001b[0;34m\u001b[0m\u001b[0m\n\u001b[0m\u001b[1;32m    341\u001b[0m \u001b[0;34m\u001b[0m\u001b[0m\n\u001b[1;32m    342\u001b[0m \u001b[0;34m\u001b[0m\u001b[0m\n",
      "\u001b[0;31mValueError\u001b[0m: all the input array dimensions except for the concatenation axis must match exactly"
     ]
    }
   ],
   "source": [
    "A = np.random.rand(5,4);\n",
    "print(A);\n",
    "\n",
    "B= np.random.rand(4,4);\n",
    "print(B)\n",
    "\n",
    "C = np.hstack((A, B));\n",
    "print(C)"
   ]
  },
  {
   "cell_type": "code",
   "execution_count": null,
   "metadata": {
    "id": "7QrmqtPs-IPs",
    "outputId": "63fe4091-c658-4244-c26e-ea2fe5f1ae3e"
   },
   "outputs": [
    {
     "name": "stdout",
     "output_type": "stream",
     "text": [
      "[[0.47572417 0.88468831 0.81030914 0.54286827]\n",
      " [0.088576   0.6447609  0.65370572 0.31849572]\n",
      " [0.01805613 0.46166837 0.4602457  0.35788657]\n",
      " [0.37245741 0.49461568 0.31431636 0.3799997 ]\n",
      " [0.96098487 0.1608441  0.50098802 0.01518362]]\n",
      "[[0.43308702 0.04543804 0.91316269 0.86101818]\n",
      " [0.86514807 0.63395249 0.40368305 0.31388662]\n",
      " [0.82764524 0.15498427 0.70440415 0.904619  ]\n",
      " [0.13671617 0.81722549 0.95948317 0.70652946]]\n",
      "[[0.47572417 0.88468831 0.81030914 0.54286827]\n",
      " [0.088576   0.6447609  0.65370572 0.31849572]\n",
      " [0.01805613 0.46166837 0.4602457  0.35788657]\n",
      " [0.37245741 0.49461568 0.31431636 0.3799997 ]\n",
      " [0.96098487 0.1608441  0.50098802 0.01518362]\n",
      " [0.43308702 0.04543804 0.91316269 0.86101818]\n",
      " [0.86514807 0.63395249 0.40368305 0.31388662]\n",
      " [0.82764524 0.15498427 0.70440415 0.904619  ]\n",
      " [0.13671617 0.81722549 0.95948317 0.70652946]]\n"
     ]
    }
   ],
   "source": [
    "A = np.random.rand(5,4);\n",
    "print(A);\n",
    "\n",
    "B= np.random.rand(4,4);\n",
    "print(B)\n",
    "\n",
    "C = np.vstack((A, B)); #Vertical stacking\n",
    "print(C)"
   ]
  },
  {
   "cell_type": "code",
   "execution_count": null,
   "metadata": {
    "id": "G7G2gKSv-IPt",
    "outputId": "ce7b822c-f5c8-449e-87ec-0510349d1a92"
   },
   "outputs": [
    {
     "name": "stdout",
     "output_type": "stream",
     "text": [
      "(5, 4, 3)\n",
      "(5, 3, 3)\n",
      "(5, 7, 3)\n"
     ]
    }
   ],
   "source": [
    "# 3D tensors\n",
    "A = np.random.rand(5,4,3); # (height, width, colors) in images is a good way to think of this\n",
    "print(A.shape);\n",
    "\n",
    "B= np.random.rand(5,3,3);\n",
    "print(B.shape)\n",
    "\n",
    "C = np.hstack((A, B));\n",
    "print(C.shape)"
   ]
  },
  {
   "cell_type": "code",
   "execution_count": null,
   "metadata": {
    "id": "4xMF604G-IPt",
    "outputId": "0c9ffad7-6373-4963-f22e-16ec00852645"
   },
   "outputs": [
    {
     "name": "stdout",
     "output_type": "stream",
     "text": [
      "(5, 4, 3)\n",
      "(4, 3, 3)\n"
     ]
    },
    {
     "ename": "ValueError",
     "evalue": "all the input array dimensions except for the concatenation axis must match exactly",
     "output_type": "error",
     "traceback": [
      "\u001b[0;31m---------------------------------------------------------------------------\u001b[0m",
      "\u001b[0;31mValueError\u001b[0m                                Traceback (most recent call last)",
      "\u001b[0;32m<ipython-input-89-219e77c582c0>\u001b[0m in \u001b[0;36m<module>\u001b[0;34m()\u001b[0m\n\u001b[1;32m      6\u001b[0m \u001b[0;32mprint\u001b[0m\u001b[0;34m(\u001b[0m\u001b[0mB\u001b[0m\u001b[0;34m.\u001b[0m\u001b[0mshape\u001b[0m\u001b[0;34m)\u001b[0m\u001b[0;34m\u001b[0m\u001b[0m\n\u001b[1;32m      7\u001b[0m \u001b[0;34m\u001b[0m\u001b[0m\n\u001b[0;32m----> 8\u001b[0;31m \u001b[0mC\u001b[0m \u001b[0;34m=\u001b[0m \u001b[0mnp\u001b[0m\u001b[0;34m.\u001b[0m\u001b[0mhstack\u001b[0m\u001b[0;34m(\u001b[0m\u001b[0;34m(\u001b[0m\u001b[0mA\u001b[0m\u001b[0;34m,\u001b[0m \u001b[0mB\u001b[0m\u001b[0;34m)\u001b[0m\u001b[0;34m)\u001b[0m\u001b[0;34m;\u001b[0m\u001b[0;34m\u001b[0m\u001b[0m\n\u001b[0m\u001b[1;32m      9\u001b[0m \u001b[0;32mprint\u001b[0m\u001b[0;34m(\u001b[0m\u001b[0mC\u001b[0m\u001b[0;34m.\u001b[0m\u001b[0mshape\u001b[0m\u001b[0;34m)\u001b[0m\u001b[0;34m\u001b[0m\u001b[0m\n",
      "\u001b[0;32m/usr/local/lib/python2.7/site-packages/numpy/core/shape_base.pyc\u001b[0m in \u001b[0;36mhstack\u001b[0;34m(tup)\u001b[0m\n\u001b[1;32m    338\u001b[0m         \u001b[0;32mreturn\u001b[0m \u001b[0m_nx\u001b[0m\u001b[0;34m.\u001b[0m\u001b[0mconcatenate\u001b[0m\u001b[0;34m(\u001b[0m\u001b[0marrs\u001b[0m\u001b[0;34m,\u001b[0m \u001b[0;36m0\u001b[0m\u001b[0;34m)\u001b[0m\u001b[0;34m\u001b[0m\u001b[0m\n\u001b[1;32m    339\u001b[0m     \u001b[0;32melse\u001b[0m\u001b[0;34m:\u001b[0m\u001b[0;34m\u001b[0m\u001b[0m\n\u001b[0;32m--> 340\u001b[0;31m         \u001b[0;32mreturn\u001b[0m \u001b[0m_nx\u001b[0m\u001b[0;34m.\u001b[0m\u001b[0mconcatenate\u001b[0m\u001b[0;34m(\u001b[0m\u001b[0marrs\u001b[0m\u001b[0;34m,\u001b[0m \u001b[0;36m1\u001b[0m\u001b[0;34m)\u001b[0m\u001b[0;34m\u001b[0m\u001b[0m\n\u001b[0m\u001b[1;32m    341\u001b[0m \u001b[0;34m\u001b[0m\u001b[0m\n\u001b[1;32m    342\u001b[0m \u001b[0;34m\u001b[0m\u001b[0m\n",
      "\u001b[0;31mValueError\u001b[0m: all the input array dimensions except for the concatenation axis must match exactly"
     ]
    }
   ],
   "source": [
    "# 3D tensors\n",
    "A = np.random.rand(5,4,3);\n",
    "print(A.shape);\n",
    "\n",
    "B= np.random.rand(4,3,3);\n",
    "print(B.shape)\n",
    "\n",
    "C = np.hstack((A, B));\n",
    "print(C.shape)"
   ]
  },
  {
   "cell_type": "code",
   "execution_count": null,
   "metadata": {
    "id": "bsViHtML-IPt",
    "outputId": "b25d7769-0175-4f9e-8031-7aa945d36548"
   },
   "outputs": [
    {
     "name": "stdout",
     "output_type": "stream",
     "text": [
      "(5, 4, 3)\n",
      "(5, 4, 2)\n"
     ]
    },
    {
     "ename": "ValueError",
     "evalue": "all the input array dimensions except for the concatenation axis must match exactly",
     "output_type": "error",
     "traceback": [
      "\u001b[0;31m---------------------------------------------------------------------------\u001b[0m",
      "\u001b[0;31mValueError\u001b[0m                                Traceback (most recent call last)",
      "\u001b[0;32m<ipython-input-92-4695741ca48f>\u001b[0m in \u001b[0;36m<module>\u001b[0;34m()\u001b[0m\n\u001b[1;32m      6\u001b[0m \u001b[0;32mprint\u001b[0m\u001b[0;34m(\u001b[0m\u001b[0mB\u001b[0m\u001b[0;34m.\u001b[0m\u001b[0mshape\u001b[0m\u001b[0;34m)\u001b[0m\u001b[0;34m\u001b[0m\u001b[0m\n\u001b[1;32m      7\u001b[0m \u001b[0;34m\u001b[0m\u001b[0m\n\u001b[0;32m----> 8\u001b[0;31m \u001b[0mC\u001b[0m \u001b[0;34m=\u001b[0m \u001b[0mnp\u001b[0m\u001b[0;34m.\u001b[0m\u001b[0mhstack\u001b[0m\u001b[0;34m(\u001b[0m\u001b[0;34m(\u001b[0m\u001b[0mA\u001b[0m\u001b[0;34m,\u001b[0m \u001b[0mB\u001b[0m\u001b[0;34m)\u001b[0m\u001b[0;34m)\u001b[0m\u001b[0;34m;\u001b[0m\u001b[0;34m\u001b[0m\u001b[0m\n\u001b[0m\u001b[1;32m      9\u001b[0m \u001b[0;32mprint\u001b[0m\u001b[0;34m(\u001b[0m\u001b[0mC\u001b[0m\u001b[0;34m.\u001b[0m\u001b[0mshape\u001b[0m\u001b[0;34m)\u001b[0m\u001b[0;34m\u001b[0m\u001b[0m\n",
      "\u001b[0;32m/usr/local/lib/python2.7/site-packages/numpy/core/shape_base.pyc\u001b[0m in \u001b[0;36mhstack\u001b[0;34m(tup)\u001b[0m\n\u001b[1;32m    338\u001b[0m         \u001b[0;32mreturn\u001b[0m \u001b[0m_nx\u001b[0m\u001b[0;34m.\u001b[0m\u001b[0mconcatenate\u001b[0m\u001b[0;34m(\u001b[0m\u001b[0marrs\u001b[0m\u001b[0;34m,\u001b[0m \u001b[0;36m0\u001b[0m\u001b[0;34m)\u001b[0m\u001b[0;34m\u001b[0m\u001b[0m\n\u001b[1;32m    339\u001b[0m     \u001b[0;32melse\u001b[0m\u001b[0;34m:\u001b[0m\u001b[0;34m\u001b[0m\u001b[0m\n\u001b[0;32m--> 340\u001b[0;31m         \u001b[0;32mreturn\u001b[0m \u001b[0m_nx\u001b[0m\u001b[0;34m.\u001b[0m\u001b[0mconcatenate\u001b[0m\u001b[0;34m(\u001b[0m\u001b[0marrs\u001b[0m\u001b[0;34m,\u001b[0m \u001b[0;36m1\u001b[0m\u001b[0;34m)\u001b[0m\u001b[0;34m\u001b[0m\u001b[0m\n\u001b[0m\u001b[1;32m    341\u001b[0m \u001b[0;34m\u001b[0m\u001b[0m\n\u001b[1;32m    342\u001b[0m \u001b[0;34m\u001b[0m\u001b[0m\n",
      "\u001b[0;31mValueError\u001b[0m: all the input array dimensions except for the concatenation axis must match exactly"
     ]
    }
   ],
   "source": [
    "# 3D tensors\n",
    "A = np.random.rand(5,4,3);\n",
    "print(A.shape);\n",
    "\n",
    "B= np.random.rand(5,4,2);\n",
    "print(B.shape)\n",
    "\n",
    "C = np.hstack((A, B));\n",
    "print(C.shape)"
   ]
  },
  {
   "cell_type": "code",
   "execution_count": null,
   "metadata": {
    "id": "ZkTBDa_m-IPu",
    "outputId": "7b62d9ce-f935-4033-c560-1dcf1cfbfb96"
   },
   "outputs": [
    {
     "name": "stdout",
     "output_type": "stream",
     "text": [
      "(5, 4, 3)\n",
      "(2, 4, 3)\n",
      "(7, 4, 3)\n"
     ]
    }
   ],
   "source": [
    "# 3D tensors vstack\n",
    "A = np.random.rand(5,4,3); # (height, width, colors) in images\n",
    "print(A.shape);\n",
    "\n",
    "B= np.random.rand(2,4,3);\n",
    "print(B.shape)\n",
    "\n",
    "C = np.vstack((A, B));\n",
    "print(C.shape)"
   ]
  },
  {
   "cell_type": "markdown",
   "metadata": {
    "id": "Ygea6Q1s-IPv"
   },
   "source": [
    "#### Exercise: Achieve the above tranaomfrs using numpy.concatenate [https://numpy.org/doc/1.18/reference/generated/numpy.concatenate.html#numpy.concatenate]\n",
    "***********\n",
    "***********\n",
    "***********\n",
    "***********\n"
   ]
  },
  {
   "cell_type": "markdown",
   "metadata": {
    "id": "nQhHSgG6-IPv"
   },
   "source": [
    "### Problem-4: Find peaks/max in an list\n",
    "- problem definition\n"
   ]
  },
  {
   "cell_type": "code",
   "execution_count": null,
   "metadata": {
    "id": "3kRrfNhL-IPw",
    "outputId": "f23118c5-e1ba-4997-88e1-83034b63c7d6"
   },
   "outputs": [
    {
     "name": "stdout",
     "output_type": "stream",
     "text": [
      "[1, 3, 4, 5, 7, 6, 4, 5, 10, 1]\n"
     ]
    }
   ],
   "source": [
    "\n",
    "A = [1,3,4,5,7,6,4,5,10,1];\n",
    "print(A)"
   ]
  },
  {
   "cell_type": "code",
   "execution_count": null,
   "metadata": {
    "id": "R1XPpLSx-IPw",
    "outputId": "a3d4ad12-97ec-454b-ca66-3d9b4e20edc4"
   },
   "outputs": [
    {
     "ename": "AttributeError",
     "evalue": "'list' object has no attribute 'size'",
     "output_type": "error",
     "traceback": [
      "\u001b[0;31m---------------------------------------------------------------------------\u001b[0m",
      "\u001b[0;31mAttributeError\u001b[0m                            Traceback (most recent call last)",
      "\u001b[0;32m<ipython-input-102-0fae074d0510>\u001b[0m in \u001b[0;36m<module>\u001b[0;34m()\u001b[0m\n\u001b[1;32m      2\u001b[0m \u001b[0;31m# Peak: A[i-1] <= A[i] >= A[i+1]\u001b[0m\u001b[0;34m\u001b[0m\u001b[0;34m\u001b[0m\u001b[0m\n\u001b[1;32m      3\u001b[0m \u001b[0;34m\u001b[0m\u001b[0m\n\u001b[0;32m----> 4\u001b[0;31m \u001b[0;32mfor\u001b[0m \u001b[0mi\u001b[0m \u001b[0;32min\u001b[0m \u001b[0mrange\u001b[0m\u001b[0;34m(\u001b[0m\u001b[0;36m1\u001b[0m\u001b[0;34m,\u001b[0m \u001b[0mA\u001b[0m\u001b[0;34m.\u001b[0m\u001b[0msize\u001b[0m \u001b[0;34m-\u001b[0m \u001b[0;36m1\u001b[0m\u001b[0;34m)\u001b[0m\u001b[0;34m:\u001b[0m \u001b[0;31m# 1 and -1 are important\u001b[0m\u001b[0;34m\u001b[0m\u001b[0m\n\u001b[0m\u001b[1;32m      5\u001b[0m     \u001b[0;32mif\u001b[0m \u001b[0;34m(\u001b[0m\u001b[0mA\u001b[0m\u001b[0;34m[\u001b[0m\u001b[0mi\u001b[0m\u001b[0;34m]\u001b[0m \u001b[0;34m>=\u001b[0m \u001b[0mA\u001b[0m\u001b[0;34m[\u001b[0m\u001b[0mi\u001b[0m\u001b[0;34m-\u001b[0m\u001b[0;36m1\u001b[0m\u001b[0;34m]\u001b[0m\u001b[0;34m)\u001b[0m \u001b[0;32mand\u001b[0m \u001b[0;34m(\u001b[0m\u001b[0mA\u001b[0m\u001b[0;34m[\u001b[0m\u001b[0mi\u001b[0m\u001b[0;34m]\u001b[0m \u001b[0;34m>=\u001b[0m \u001b[0mA\u001b[0m\u001b[0;34m[\u001b[0m\u001b[0mi\u001b[0m\u001b[0;34m+\u001b[0m\u001b[0;36m1\u001b[0m\u001b[0;34m]\u001b[0m\u001b[0;34m)\u001b[0m\u001b[0;34m:\u001b[0m\u001b[0;34m\u001b[0m\u001b[0m\n\u001b[1;32m      6\u001b[0m         \u001b[0;32mprint\u001b[0m \u001b[0mA\u001b[0m\u001b[0;34m[\u001b[0m\u001b[0mi\u001b[0m\u001b[0;34m]\u001b[0m\u001b[0;34m;\u001b[0m\u001b[0;34m\u001b[0m\u001b[0m\n",
      "\u001b[0;31mAttributeError\u001b[0m: 'list' object has no attribute 'size'"
     ]
    }
   ],
   "source": [
    "# Peaks: 7,10\n",
    "# Peak: A[i-1] <= A[i] >= A[i+1]\n",
    "\n",
    "for i in range(1, A.size - 1): # 1 and -1 are important\n",
    "    if (A[i] >= A[i-1]) and (A[i] >= A[i+1]):\n",
    "        print(A[i]);"
   ]
  },
  {
   "cell_type": "code",
   "execution_count": null,
   "metadata": {
    "id": "KyqfmpTb-IPw",
    "outputId": "8b7cf56c-b39f-4fc8-bf75-836a2645e2e4"
   },
   "outputs": [
    {
     "name": "stdout",
     "output_type": "stream",
     "text": [
      "10\n"
     ]
    }
   ],
   "source": [
    "print(len(A));"
   ]
  },
  {
   "cell_type": "code",
   "execution_count": null,
   "metadata": {
    "id": "UaaOMeHC-IPx",
    "outputId": "b3a07074-7ca5-4b14-d6c4-c9d7c3ac94bc"
   },
   "outputs": [
    {
     "name": "stdout",
     "output_type": "stream",
     "text": [
      "7\n",
      "10\n"
     ]
    }
   ],
   "source": [
    "for i in range(1, len(A) - 1): # 1 and -1 are important\n",
    "    if (A[i] >= A[i-1]) and (A[i] >= A[i+1]):\n",
    "        print(A[i]);"
   ]
  },
  {
   "cell_type": "code",
   "execution_count": null,
   "metadata": {
    "id": "dPmRKG4B-IPx"
   },
   "outputs": [],
   "source": [
    "# There is a bug in the above solution. Find it...\n"
   ]
  },
  {
   "cell_type": "code",
   "execution_count": null,
   "metadata": {
    "id": "1zeSHucL-IPx",
    "outputId": "af3658de-7852-4bf7-e3e7-ffeec862e065"
   },
   "outputs": [
    {
     "name": "stdout",
     "output_type": "stream",
     "text": [
      "7\n"
     ]
    }
   ],
   "source": [
    "A = [11,3,4,5,7,6,4,5,10,15];\n",
    "\n",
    "for i in range(1, len(A) - 1): # 1 and -1 are important\n",
    "    if (A[i] >= A[i-1]) and (A[i] >= A[i+1]):\n",
    "        print(A[i]);"
   ]
  },
  {
   "cell_type": "code",
   "execution_count": null,
   "metadata": {
    "id": "m-zf3NmQ-IPx"
   },
   "outputs": [],
   "source": [
    "# what about 11 and 15?\n",
    "\n",
    "# boundary case\n",
    "if A[0] >= A[1]:\n",
    "    print(A[0])\n",
    "    \n",
    "for i in range(1, len(A) - 1): # 1 and -1 are important\n",
    "    if (A[i] >= A[i-1]) and (A[i] >= A[i+1]):\n",
    "        print(A[i]);\n",
    "\n",
    "# boundary case\n",
    "if A[len(A)-1] >= A[len(A)-2]:\n",
    "    print(A[len(A)-1])\n"
   ]
  },
  {
   "cell_type": "code",
   "execution_count": null,
   "metadata": {
    "id": "TQpvidEO-IPx"
   },
   "outputs": [],
   "source": [
    "# LESSON: Donot forget boundary cases\n",
    "\n",
    "#Question: Time Complexity = ?"
   ]
  },
  {
   "cell_type": "markdown",
   "metadata": {
    "id": "JiIslzrx-IPy"
   },
   "source": [
    "#### Exercise: \n",
    "1. Find peaks which are max values in a window of size 2 on both sides.\n",
    "2. Use scipy.signal.find_peaks [https://docs.scipy.org/doc/scipy/reference/generated/scipy.signal.find_peaks.html]\n",
    "\n",
    "Additioanl reading: More efficient algos @ http://courses.csail.mit.edu/6.006/spring11/lectures/lec02.pdf"
   ]
  },
  {
   "cell_type": "markdown",
   "metadata": {
    "id": "g61ib3AL-IPy"
   },
   "source": [
    "### Problem 5: Permutations of a list\n",
    "- Problem definition: lst = [1,2,3]"
   ]
  },
  {
   "cell_type": "code",
   "execution_count": null,
   "metadata": {
    "id": "ITDWcfvK-IPy",
    "outputId": "9dc96993-2d36-4511-d56c-dce86398d6e3"
   },
   "outputs": [
    {
     "name": "stdout",
     "output_type": "stream",
     "text": [
      "(1, 2, 3)\n",
      "(1, 3, 2)\n",
      "(2, 1, 3)\n",
      "(2, 3, 1)\n",
      "(3, 1, 2)\n",
      "(3, 2, 1)\n"
     ]
    }
   ],
   "source": [
    "# Using libraries\n",
    "from itertools import permutations \n",
    "  \n",
    "p = permutations([1, 2, 3]) # refer: https://docs.python.org/3/library/itertools.html#itertools.permutations\n",
    "\n",
    "# what is an iterable in Python [https://www.pythonlikeyoumeanit.com/Module2_EssentialsOfPython/Iterables.html]\n",
    "\n",
    "# print the permutations\n",
    "for i in list(p): \n",
    "    print i "
   ]
  },
  {
   "cell_type": "code",
   "execution_count": null,
   "metadata": {
    "id": "7ekRtf4_-IPy"
   },
   "outputs": [],
   "source": [
    "# No fun!\n",
    "# Write your own code. Any suggestions?\n",
    "# Break the problem into smaller sub-problems"
   ]
  },
  {
   "cell_type": "code",
   "execution_count": null,
   "metadata": {
    "id": "BnCMSj2h-IPy",
    "outputId": "97b05996-7602-4613-dd6e-d52174577ca3"
   },
   "outputs": [
    {
     "data": {
      "text/plain": [
       "[3, 2, 1]"
      ]
     },
     "execution_count": 122,
     "metadata": {
      "tags": []
     },
     "output_type": "execute_result"
    }
   ],
   "source": [
    "[1,2,3]\n",
    "[1,3,2]\n",
    "[2,1,3]\n",
    "[2,3,1]\n",
    "[3,1,2]\n",
    "[3,2,1]"
   ]
  },
  {
   "cell_type": "code",
   "execution_count": null,
   "metadata": {
    "id": "K9EUS0C5-IPz",
    "outputId": "a15f8245-d32d-40c0-e200-8c36e7f64910"
   },
   "outputs": [
    {
     "name": "stdout",
     "output_type": "stream",
     "text": [
      "[[1, 2, 3], [1, 3, 2], [2, 1, 3], [2, 3, 1], [3, 1, 2], [3, 2, 1]]\n"
     ]
    }
   ],
   "source": [
    "# source: https://stackoverflow.com/questions/13109274/python-recursion-permutations\n",
    "\n",
    "def permutation(s):\n",
    "   if len(s) == 1:\n",
    "     return [s]\n",
    "\n",
    "   perm_list = [] # resulting list\n",
    "   for a in s:\n",
    "     remaining_elements = [x for x in s if x != a]\n",
    "     z = permutation(remaining_elements) # permutations of sub-list\n",
    "\n",
    "     for t in z:\n",
    "       perm_list.append([a] + t)\n",
    "\n",
    "   return perm_list\n",
    "\n",
    "s = [1,2,3];\n",
    "p = permutation(s);\n",
    "print(p)"
   ]
  },
  {
   "cell_type": "markdown",
   "metadata": {
    "id": "RlnKPFMH-IPz"
   },
   "source": [
    "#### Exercise: [Combinations] All possible ways to pick 3 elements out of 5 elements\n",
    "\n",
    "- HINT: Use recursion.\n",
    "- Google \"combinations in Python\""
   ]
  },
  {
   "cell_type": "markdown",
   "metadata": {
    "id": "xq8oS_1h-IPz"
   },
   "source": [
    "### Practice, practice and practice..\n",
    "\n",
    "- Optional  Assignments at AAIC: https://go.aws/2JrmV4A [Functions] , https://drive.google.com/file/d/1VB3wJSt_Mq0HLP9uaqgsZBR4BLMFnkmY/view [Pandas]\n",
    "\n",
    "- Basic Python: https://www.geeksforgeeks.org/python-programming-examples/\n",
    "- NumPy: https://www.w3resource.com/python-exercises/numpy/index.php\n"
   ]
  },
  {
   "cell_type": "code",
   "execution_count": 11,
   "metadata": {
    "id": "aaC51yoi-IPz"
   },
   "outputs": [],
   "source": [
    "x = \"230\""
   ]
  },
  {
   "cell_type": "code",
   "execution_count": 12,
   "metadata": {},
   "outputs": [
    {
     "data": {
      "text/plain": [
       "'230111'"
      ]
     },
     "execution_count": 12,
     "metadata": {},
     "output_type": "execute_result"
    }
   ],
   "source": [
    "x = x.ljust(6,\"1\")\n",
    "x"
   ]
  },
  {
   "cell_type": "code",
   "execution_count": 13,
   "metadata": {},
   "outputs": [
    {
     "data": {
      "text/plain": [
       "'230'"
      ]
     },
     "execution_count": 13,
     "metadata": {},
     "output_type": "execute_result"
    }
   ],
   "source": [
    "x.rstrip(\"1\")"
   ]
  },
  {
   "cell_type": "code",
   "execution_count": null,
   "metadata": {},
   "outputs": [],
   "source": []
  }
 ],
 "metadata": {
  "colab": {
   "name": "LIVE-1_Python.ipynb",
   "provenance": []
  },
  "kernelspec": {
   "display_name": "Python 3",
   "language": "python",
   "name": "python3"
  },
  "language_info": {
   "codemirror_mode": {
    "name": "ipython",
    "version": 3
   },
   "file_extension": ".py",
   "mimetype": "text/x-python",
   "name": "python",
   "nbconvert_exporter": "python",
   "pygments_lexer": "ipython3",
   "version": "3.6.14"
  }
 },
 "nbformat": 4,
 "nbformat_minor": 1
}
